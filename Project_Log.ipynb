{
  "cells": [
    {
      "cell_type": "markdown",
      "metadata": {
        "colab_type": "text",
        "id": "view-in-github"
      },
      "source": [
        "<a href=\"https://colab.research.google.com/github/henriqueborgo/Log_Project/blob/main/Project_Log.ipynb\" target=\"_parent\"><img src=\"https://colab.research.google.com/assets/colab-badge.svg\" alt=\"Open In Colab\"/></a>"
      ]
    },
    {
      "cell_type": "code",
      "execution_count": null,
      "metadata": {
        "id": "GjF8ObxUlhfp"
      },
      "outputs": [],
      "source": [
        "import pandas as pd\n",
        "import numpy as np"
      ]
    },
    {
      "cell_type": "code",
      "execution_count": null,
      "metadata": {
        "colab": {
          "base_uri": "https://localhost:8080/"
        },
        "id": "Cy33DLq_A2Y8",
        "outputId": "cb690dd3-7648-4170-9905-a626251baf3b"
      },
      "outputs": [
        {
          "name": "stdout",
          "output_type": "stream",
          "text": [
            "                                                      Log\n",
            "0       [ERR] integ_get_station_status (wifi_ctrl.c:48...\n",
            "1       [ERR] process_station_mode (ya_wifi.c:197) - C...\n",
            "2       [INF] battery_event_stats_changed (eagle.c:190...\n",
            "3       [DBG] video_stream_thread_proc (objectdet-pilo...\n",
            "4       [DBG] motion_detection_callback (eagle.c:1581)...\n",
            "...                                                   ...\n",
            "442430  [DBG] video_stream_thread_proc (objectdet-pilo...\n",
            "442431  [DBG] video_stream_thread_proc (objectdet-pilo...\n",
            "442432  [DBG] video_stream_thread_proc (objectdet-pilo...\n",
            "442433  [DBG] video_stream_thread_proc (objectdet-pilo...\n",
            "442434                  [DBG] video_stream_thread_proc (o\n",
            "\n",
            "[442435 rows x 1 columns]\n"
          ]
        }
      ],
      "source": [
        "log = pd.read_fwf('log_teste.txt', names=['Time', 'Log'])\n",
        "log = log.iloc[:, 1:]\n",
        "log = log['Log']\n",
        "\n",
        "debug_level = ['[DBG]', '[INF]', '[WRN]', '[ERR]', '[CRIT]']\n",
        "debug_level = pd.DataFrame(debug_level, columns=['Log'])\n",
        "debug_level = debug_level['Log']\n",
        "\n",
        "color_index = '\u001b[0m'\n",
        "\n",
        "\n",
        "def erase(log_file, chosen_arguments_erase):\n",
        "    log_correct = []\n",
        "    for i in log_file:\n",
        "        for d in chosen_arguments_erase:\n",
        "            if i.find(d) != -1:\n",
        "                i = i[i.find(d):]\n",
        "                i = i[:i.find(color_index)]\n",
        "                log_correct.append(i)\n",
        "    log_correct = pd.DataFrame(log_correct, columns=['Log'])\n",
        "    print(log_correct)\n",
        "    np.savetxt(r'output.txt', log_correct.values, fmt='%s', delimiter='\\t')\n",
        "\n",
        "\n",
        "erase(log, debug_level)"
      ]
    }
  ],
  "metadata": {
    "colab": {
      "authorship_tag": "ABX9TyP5imRuLZaN/+f1fUZnCMTN",
      "include_colab_link": true,
      "provenance": []
    },
    "kernelspec": {
      "display_name": "Python 3",
      "name": "python3"
    },
    "language_info": {
      "name": "python"
    }
  },
  "nbformat": 4,
  "nbformat_minor": 0
}
